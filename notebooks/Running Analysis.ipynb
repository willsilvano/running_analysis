{
 "cells": [
  {
   "cell_type": "markdown",
   "metadata": {
    "ExecuteTime": {
     "end_time": "2020-02-23T22:25:07.471204Z",
     "start_time": "2020-02-23T22:25:07.468209Z"
    }
   },
   "source": [
    "<img src=\"https://images.pexels.com/photos/2803160/pexels-photo-2803160.jpeg?auto=compress&cs=tinysrgb&dpr=2&h=750&w=1260\" style=\"height: 650px\" />\n",
    "Fonte: <a href=\"https://www.pexels.com/pt-br/foto/adulto-ao-ar-livre-atividade-fisica-atleta-2803160/\" target=\"_blank\">Pexels.com<a>"
   ]
  },
  {
   "cell_type": "markdown",
   "metadata": {},
   "source": [
    "# Introdução"
   ]
  },
  {
   "cell_type": "markdown",
   "metadata": {},
   "source": [
    "Este projeto tem por objetivo efetuar análise exploratório e aplicar técnicas de machine learning para encontrar padrões e coisas interessantes sobre um conjunto de dados pessoal.\n",
    "\n",
    "Esse conjunto de dados representa dados de corridas de rua realizadas por mim.\n",
    "\n",
    "Os dados foram extraídos manualmente a partir do aplicativo MiFit que armazena os dados de exercícios coletados pelo smartwatch Amazfit Bip da Xiaomi."
   ]
  },
  {
   "cell_type": "markdown",
   "metadata": {},
   "source": [
    "# Imports"
   ]
  },
  {
   "cell_type": "code",
   "execution_count": 2,
   "metadata": {
    "ExecuteTime": {
     "end_time": "2020-02-23T22:17:59.240863Z",
     "start_time": "2020-02-23T22:17:58.554993Z"
    }
   },
   "outputs": [],
   "source": [
    "import pandas as pd\n",
    "import datetime\n",
    "import pytz\n",
    "\n",
    "%matplotlib inline"
   ]
  },
  {
   "cell_type": "markdown",
   "metadata": {},
   "source": [
    "# Leitura dos dados"
   ]
  },
  {
   "cell_type": "markdown",
   "metadata": {},
   "source": [
    "Carrega os dados a partir do repositório Github. Dessa forma, sempre que houver dados novos o dataset será atualizado."
   ]
  },
  {
   "cell_type": "code",
   "execution_count": 8,
   "metadata": {
    "ExecuteTime": {
     "end_time": "2020-02-23T22:20:24.681779Z",
     "start_time": "2020-02-23T22:20:24.252701Z"
    },
    "scrolled": true
   },
   "outputs": [],
   "source": [
    "url_data = 'https://raw.githubusercontent.com/willsilvano/running_analysis/master/notebooks/data/dados.csv'\n",
    "df = pd.read_csv(url_data)"
   ]
  },
  {
   "cell_type": "code",
   "execution_count": 9,
   "metadata": {
    "ExecuteTime": {
     "end_time": "2020-02-23T22:20:25.907925Z",
     "start_time": "2020-02-23T22:20:25.877405Z"
    }
   },
   "outputs": [
    {
     "data": {
      "text/html": [
       "<div>\n",
       "<style scoped>\n",
       "    .dataframe tbody tr th:only-of-type {\n",
       "        vertical-align: middle;\n",
       "    }\n",
       "\n",
       "    .dataframe tbody tr th {\n",
       "        vertical-align: top;\n",
       "    }\n",
       "\n",
       "    .dataframe thead th {\n",
       "        text-align: right;\n",
       "    }\n",
       "</style>\n",
       "<table border=\"1\" class=\"dataframe\">\n",
       "  <thead>\n",
       "    <tr style=\"text-align: right;\">\n",
       "      <th></th>\n",
       "      <th>start_time</th>\n",
       "      <th>distance</th>\n",
       "      <th>duration</th>\n",
       "      <th>avg_pace</th>\n",
       "      <th>calories</th>\n",
       "      <th>avg_heart_rate</th>\n",
       "      <th>cadence</th>\n",
       "      <th>step</th>\n",
       "      <th>min_pace</th>\n",
       "      <th>max_heart_rate</th>\n",
       "    </tr>\n",
       "  </thead>\n",
       "  <tbody>\n",
       "    <tr>\n",
       "      <th>0</th>\n",
       "      <td>2019-11-02 17:28</td>\n",
       "      <td>3.52</td>\n",
       "      <td>00:19:57</td>\n",
       "      <td>00:05:39</td>\n",
       "      <td>266</td>\n",
       "      <td>153</td>\n",
       "      <td>159</td>\n",
       "      <td>99</td>\n",
       "      <td>00:05:09</td>\n",
       "      <td>178</td>\n",
       "    </tr>\n",
       "    <tr>\n",
       "      <th>1</th>\n",
       "      <td>2019-11-05 16:38</td>\n",
       "      <td>5.10</td>\n",
       "      <td>00:30:24</td>\n",
       "      <td>00:05:57</td>\n",
       "      <td>375</td>\n",
       "      <td>154</td>\n",
       "      <td>164</td>\n",
       "      <td>92</td>\n",
       "      <td>00:05:37</td>\n",
       "      <td>180</td>\n",
       "    </tr>\n",
       "    <tr>\n",
       "      <th>2</th>\n",
       "      <td>2019-11-08 17:52</td>\n",
       "      <td>4.09</td>\n",
       "      <td>00:23:16</td>\n",
       "      <td>00:05:41</td>\n",
       "      <td>296</td>\n",
       "      <td>157</td>\n",
       "      <td>162</td>\n",
       "      <td>96</td>\n",
       "      <td>00:05:21</td>\n",
       "      <td>180</td>\n",
       "    </tr>\n",
       "    <tr>\n",
       "      <th>3</th>\n",
       "      <td>2019-11-11 17:29</td>\n",
       "      <td>5.51</td>\n",
       "      <td>00:30:35</td>\n",
       "      <td>00:05:32</td>\n",
       "      <td>422</td>\n",
       "      <td>167</td>\n",
       "      <td>165</td>\n",
       "      <td>96</td>\n",
       "      <td>00:05:20</td>\n",
       "      <td>179</td>\n",
       "    </tr>\n",
       "    <tr>\n",
       "      <th>4</th>\n",
       "      <td>2019-11-13 17:00</td>\n",
       "      <td>5.37</td>\n",
       "      <td>00:30:23</td>\n",
       "      <td>00:05:39</td>\n",
       "      <td>393</td>\n",
       "      <td>156</td>\n",
       "      <td>162</td>\n",
       "      <td>99</td>\n",
       "      <td>00:05:29</td>\n",
       "      <td>177</td>\n",
       "    </tr>\n",
       "  </tbody>\n",
       "</table>\n",
       "</div>"
      ],
      "text/plain": [
       "         start_time  distance  duration  avg_pace  calories  avg_heart_rate  \\\n",
       "0  2019-11-02 17:28      3.52  00:19:57  00:05:39       266             153   \n",
       "1  2019-11-05 16:38      5.10  00:30:24  00:05:57       375             154   \n",
       "2  2019-11-08 17:52      4.09  00:23:16  00:05:41       296             157   \n",
       "3  2019-11-11 17:29      5.51  00:30:35  00:05:32       422             167   \n",
       "4  2019-11-13 17:00      5.37  00:30:23  00:05:39       393             156   \n",
       "\n",
       "   cadence  step  min_pace  max_heart_rate  \n",
       "0      159    99  00:05:09             178  \n",
       "1      164    92  00:05:37             180  \n",
       "2      162    96  00:05:21             180  \n",
       "3      165    96  00:05:20             179  \n",
       "4      162    99  00:05:29             177  "
      ]
     },
     "execution_count": 9,
     "metadata": {},
     "output_type": "execute_result"
    }
   ],
   "source": [
    "df.head()"
   ]
  },
  {
   "cell_type": "markdown",
   "metadata": {
    "ExecuteTime": {
     "end_time": "2020-02-23T22:20:00.743493Z",
     "start_time": "2020-02-23T22:20:00.739637Z"
    }
   },
   "source": [
    "## Dicionário de dados"
   ]
  },
  {
   "cell_type": "markdown",
   "metadata": {
    "ExecuteTime": {
     "end_time": "2020-02-23T22:20:34.156291Z",
     "start_time": "2020-02-23T22:20:34.147352Z"
    }
   },
   "source": [
    "- **start_time**: Data/hora em que a corrida foi iniciada.\n",
    "- **distance**: Distância percorrida.\n",
    "- **duration**: Duração do percurso.\n",
    "- **avg_pace**: Ritmo médio, ou seja, quantos minutos em média levou para completar 1Km.\n",
    "- **calories**: Calorias gastas.\n",
    "- **avg_heart_rate**: Frequência cardíaca média.\n",
    "- **cadence**: Cadência é a frequência média de passos dados por minuto em uma corrida.\n",
    "- **step**: Passada.\n",
    "- **min_pace**: Pace/ritmo mais rápido.\n",
    "- **max_heart_rate**: Frequência cardíaca máxima."
   ]
  },
  {
   "cell_type": "markdown",
   "metadata": {},
   "source": [
    "## Informações sobre as variáveis"
   ]
  },
  {
   "cell_type": "markdown",
   "metadata": {},
   "source": [
    "### Cadência\n",
    "\n",
    "É a frequência de passos dados em uma corrida. Basta que você conte os seus passos no intervalo de 1 minuto para encontrar o valor atual da sua. Esse número tende a ser algo entre 160 e 190 passos, sendo que é comum os atletas considerarem o número de 180 ppm (passos por minuto) o ideal.\n",
    "\n",
    "Fonte: <a href=\"https://corridaperfeita.com/cadencia-na-corrida/\">Corrida perfeita - Acerte a cadência na corrida para correr melhor</a>"
   ]
  },
  {
   "cell_type": "markdown",
   "metadata": {},
   "source": [
    "# Perguntas"
   ]
  },
  {
   "cell_type": "markdown",
   "metadata": {},
   "source": [
    "## Cadência\n",
    "\n",
    "- Quando a cadência foi maior o desempenho foi melhor, e vice-versa?\n",
    "- Em que momentos do dia a cadência foi melhor?"
   ]
  },
  {
   "cell_type": "markdown",
   "metadata": {},
   "source": [
    "## Ritmo\n",
    "\n",
    "- Há diferença de desempenho nos períodos manhã, tarde e noite?\n",
    "- Em que momentos do dia o desempenho foi melhor?\n",
    "- O pace/ritmo médio está evoluindo?\n",
    "- Qual o pace ideal para corridas de 5K?\n",
    "- É possível prever em quanto tempo chegarei num pace ideal?"
   ]
  },
  {
   "cell_type": "markdown",
   "metadata": {},
   "source": [
    "## Frequência cardíaca\n",
    "\n",
    "- Qual a relação da frequência cardíaca com pace menor/maior?"
   ]
  },
  {
   "cell_type": "markdown",
   "metadata": {},
   "source": [
    "# Limpeza dos dados"
   ]
  },
  {
   "cell_type": "markdown",
   "metadata": {},
   "source": [
    "Não houve necessidade de limpeza/higienização dos dados."
   ]
  },
  {
   "cell_type": "markdown",
   "metadata": {
    "ExecuteTime": {
     "end_time": "2020-02-23T23:22:53.535887Z",
     "start_time": "2020-02-23T23:22:53.529181Z"
    }
   },
   "source": [
    "CONTINUA..."
   ]
  }
 ],
 "metadata": {
  "kernelspec": {
   "display_name": "Python 3",
   "language": "python",
   "name": "python3"
  },
  "language_info": {
   "codemirror_mode": {
    "name": "ipython",
    "version": 3
   },
   "file_extension": ".py",
   "mimetype": "text/x-python",
   "name": "python",
   "nbconvert_exporter": "python",
   "pygments_lexer": "ipython3",
   "version": "3.7.3"
  },
  "toc": {
   "base_numbering": 1,
   "nav_menu": {},
   "number_sections": true,
   "sideBar": true,
   "skip_h1_title": false,
   "title_cell": "Table of Contents",
   "title_sidebar": "Contents",
   "toc_cell": false,
   "toc_position": {},
   "toc_section_display": true,
   "toc_window_display": true
  }
 },
 "nbformat": 4,
 "nbformat_minor": 2
}
