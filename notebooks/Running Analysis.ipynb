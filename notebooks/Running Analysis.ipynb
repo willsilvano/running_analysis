{
 "cells": [
  {
   "cell_type": "markdown",
   "metadata": {
    "ExecuteTime": {
     "end_time": "2020-02-23T22:25:07.471204Z",
     "start_time": "2020-02-23T22:25:07.468209Z"
    }
   },
   "source": [
    "<img src=\"https://images.pexels.com/photos/2803160/pexels-photo-2803160.jpeg?auto=compress&cs=tinysrgb&dpr=2&h=750&w=1260\" style=\"height: 650px\" />\n",
    "Fonte: <a href=\"https://www.pexels.com/pt-br/foto/adulto-ao-ar-livre-atividade-fisica-atleta-2803160/\" target=\"_blank\">Pexels.com<a>"
   ]
  },
  {
   "cell_type": "markdown",
   "metadata": {},
   "source": [
    "# Introdução"
   ]
  },
  {
   "cell_type": "markdown",
   "metadata": {},
   "source": [
    "Este projeto tem por objetivo efetuar análise exploratório e aplicar técnicas de machine learning para encontrar padrões e coisas interessantes sobre um conjunto de dados pessoal.\n",
    "\n",
    "Esse conjunto de dados representa dados de corridas de rua realizadas por mim.\n",
    "\n",
    "Os dados foram extraídos manualmente a partir do aplicativo MiFit que armazena os dados de exercícios coletados pelo smartwatch Amazfit Bip da Xiaomi."
   ]
  },
  {
   "cell_type": "markdown",
   "metadata": {},
   "source": [
    "# Imports"
   ]
  },
  {
   "cell_type": "code",
   "execution_count": 26,
   "metadata": {
    "ExecuteTime": {
     "end_time": "2020-03-01T01:00:24.594535Z",
     "start_time": "2020-03-01T01:00:24.583194Z"
    }
   },
   "outputs": [],
   "source": [
    "import pandas as pd\n",
    "import numpy as np\n",
    "import time\n",
    "import seaborn as sns\n",
    "import matplotlib.pyplot as plt\n",
    "\n",
    "%matplotlib inline"
   ]
  },
  {
   "cell_type": "markdown",
   "metadata": {},
   "source": [
    "# Leitura dos dados"
   ]
  },
  {
   "cell_type": "code",
   "execution_count": 3,
   "metadata": {
    "ExecuteTime": {
     "end_time": "2020-02-29T23:54:52.289751Z",
     "start_time": "2020-02-29T23:54:52.264048Z"
    },
    "scrolled": true
   },
   "outputs": [
    {
     "data": {
      "text/html": [
       "<div>\n",
       "<style scoped>\n",
       "    .dataframe tbody tr th:only-of-type {\n",
       "        vertical-align: middle;\n",
       "    }\n",
       "\n",
       "    .dataframe tbody tr th {\n",
       "        vertical-align: top;\n",
       "    }\n",
       "\n",
       "    .dataframe thead th {\n",
       "        text-align: right;\n",
       "    }\n",
       "</style>\n",
       "<table border=\"1\" class=\"dataframe\">\n",
       "  <thead>\n",
       "    <tr style=\"text-align: right;\">\n",
       "      <th></th>\n",
       "      <th>start_time</th>\n",
       "      <th>distance</th>\n",
       "      <th>duration</th>\n",
       "      <th>avg_pace</th>\n",
       "      <th>calories</th>\n",
       "      <th>avg_heart_rate</th>\n",
       "      <th>cadence</th>\n",
       "      <th>step</th>\n",
       "      <th>min_pace</th>\n",
       "      <th>max_heart_rate</th>\n",
       "      <th>km_min_pace</th>\n",
       "      <th>5km_pace</th>\n",
       "      <th>5km_duration</th>\n",
       "    </tr>\n",
       "  </thead>\n",
       "  <tbody>\n",
       "    <tr>\n",
       "      <th>0</th>\n",
       "      <td>2019-11-02 17:28</td>\n",
       "      <td>3.52</td>\n",
       "      <td>00:19:57</td>\n",
       "      <td>00:05:39</td>\n",
       "      <td>266</td>\n",
       "      <td>153</td>\n",
       "      <td>159</td>\n",
       "      <td>99</td>\n",
       "      <td>00:05:09</td>\n",
       "      <td>178</td>\n",
       "      <td>1</td>\n",
       "      <td>NaN</td>\n",
       "      <td>NaN</td>\n",
       "    </tr>\n",
       "    <tr>\n",
       "      <th>1</th>\n",
       "      <td>2019-11-05 16:38</td>\n",
       "      <td>5.10</td>\n",
       "      <td>00:30:24</td>\n",
       "      <td>00:05:57</td>\n",
       "      <td>375</td>\n",
       "      <td>154</td>\n",
       "      <td>164</td>\n",
       "      <td>92</td>\n",
       "      <td>00:05:37</td>\n",
       "      <td>180</td>\n",
       "      <td>2</td>\n",
       "      <td>00:05:55</td>\n",
       "      <td>00:29:40</td>\n",
       "    </tr>\n",
       "    <tr>\n",
       "      <th>2</th>\n",
       "      <td>2019-11-08 17:52</td>\n",
       "      <td>4.09</td>\n",
       "      <td>00:23:16</td>\n",
       "      <td>00:05:41</td>\n",
       "      <td>296</td>\n",
       "      <td>157</td>\n",
       "      <td>162</td>\n",
       "      <td>96</td>\n",
       "      <td>00:05:21</td>\n",
       "      <td>180</td>\n",
       "      <td>3</td>\n",
       "      <td>NaN</td>\n",
       "      <td>NaN</td>\n",
       "    </tr>\n",
       "    <tr>\n",
       "      <th>3</th>\n",
       "      <td>2019-11-11 17:29</td>\n",
       "      <td>5.51</td>\n",
       "      <td>00:30:35</td>\n",
       "      <td>00:05:32</td>\n",
       "      <td>422</td>\n",
       "      <td>167</td>\n",
       "      <td>165</td>\n",
       "      <td>96</td>\n",
       "      <td>00:05:20</td>\n",
       "      <td>179</td>\n",
       "      <td>1</td>\n",
       "      <td>00:05:50</td>\n",
       "      <td>00:27:22</td>\n",
       "    </tr>\n",
       "    <tr>\n",
       "      <th>4</th>\n",
       "      <td>2019-11-13 17:00</td>\n",
       "      <td>5.37</td>\n",
       "      <td>00:30:23</td>\n",
       "      <td>00:05:39</td>\n",
       "      <td>393</td>\n",
       "      <td>156</td>\n",
       "      <td>162</td>\n",
       "      <td>99</td>\n",
       "      <td>00:05:29</td>\n",
       "      <td>177</td>\n",
       "      <td>3</td>\n",
       "      <td>00:05:47</td>\n",
       "      <td>00:28:05</td>\n",
       "    </tr>\n",
       "  </tbody>\n",
       "</table>\n",
       "</div>"
      ],
      "text/plain": [
       "         start_time  distance  duration  avg_pace  calories  avg_heart_rate  \\\n",
       "0  2019-11-02 17:28      3.52  00:19:57  00:05:39       266             153   \n",
       "1  2019-11-05 16:38      5.10  00:30:24  00:05:57       375             154   \n",
       "2  2019-11-08 17:52      4.09  00:23:16  00:05:41       296             157   \n",
       "3  2019-11-11 17:29      5.51  00:30:35  00:05:32       422             167   \n",
       "4  2019-11-13 17:00      5.37  00:30:23  00:05:39       393             156   \n",
       "\n",
       "   cadence  step  min_pace  max_heart_rate  km_min_pace  5km_pace 5km_duration  \n",
       "0      159    99  00:05:09             178            1       NaN          NaN  \n",
       "1      164    92  00:05:37             180            2  00:05:55     00:29:40  \n",
       "2      162    96  00:05:21             180            3       NaN          NaN  \n",
       "3      165    96  00:05:20             179            1  00:05:50     00:27:22  \n",
       "4      162    99  00:05:29             177            3  00:05:47     00:28:05  "
      ]
     },
     "execution_count": 3,
     "metadata": {},
     "output_type": "execute_result"
    }
   ],
   "source": [
    "df = pd.read_csv('data/dados.csv')\n",
    "df.head()"
   ]
  },
  {
   "cell_type": "markdown",
   "metadata": {
    "ExecuteTime": {
     "end_time": "2020-02-23T22:20:00.743493Z",
     "start_time": "2020-02-23T22:20:00.739637Z"
    }
   },
   "source": [
    "## Dicionário de dados"
   ]
  },
  {
   "cell_type": "markdown",
   "metadata": {
    "ExecuteTime": {
     "end_time": "2020-02-23T22:20:34.156291Z",
     "start_time": "2020-02-23T22:20:34.147352Z"
    }
   },
   "source": [
    "- **start_time**: Data/hora em que a corrida foi iniciada.\n",
    "- **distance**: Distância percorrida em KM.\n",
    "- **duration**: Duração do percurso.\n",
    "- **avg_pace**: Ritmo médio, ou seja, quantos minutos em média levou para completar 1Km.\n",
    "- **calories**: Calorias gastas.\n",
    "- **avg_heart_rate**: Frequência cardíaca média.\n",
    "- **cadence**: Cadência é a frequência média de passos dados por minuto em uma corrida.\n",
    "- **step**: Passada.\n",
    "- **min_pace**: Pace/ritmo mais rápido.\n",
    "- **max_heart_rate**: Frequência cardíaca máxima.\n",
    "- **km_min_pace**: Km que teve o menor pace/ritmo.\n",
    "- **5km_pace**: Pace referente ao 5Km.\n",
    "- **5km_duration**: Duração referente ao 5Km."
   ]
  },
  {
   "cell_type": "markdown",
   "metadata": {},
   "source": [
    "## Informações sobre as variáveis"
   ]
  },
  {
   "cell_type": "markdown",
   "metadata": {},
   "source": [
    "### Cadência\n",
    "\n",
    "É a frequência de passos dados em uma corrida. Basta que você conte os seus passos no intervalo de 1 minuto para encontrar o valor atual da sua. Esse número tende a ser algo entre 160 e 190 passos, sendo que é comum os atletas considerarem o número de 180 ppm (passos por minuto) o ideal.\n",
    "\n",
    "Fonte: <a href=\"https://corridaperfeita.com/cadencia-na-corrida/\">Corrida perfeita - Acerte a cadência na corrida para correr melhor</a>"
   ]
  },
  {
   "cell_type": "markdown",
   "metadata": {},
   "source": [
    "### Passada\n",
    "\n",
    "É a distância em centímetros da pisada no chão de um mesmo pé."
   ]
  },
  {
   "cell_type": "markdown",
   "metadata": {},
   "source": [
    "# Perguntas\n",
    "\n",
    "Nessa fase são elencadas quais as perguntas que devem ser respondidas através dos dados coletados."
   ]
  },
  {
   "cell_type": "markdown",
   "metadata": {},
   "source": [
    "## Cadência\n",
    "\n",
    "- Quando a cadência foi maior o desempenho foi melhor, e vice-versa?\n",
    "- Em que momentos do dia a cadência foi melhor?"
   ]
  },
  {
   "cell_type": "markdown",
   "metadata": {},
   "source": [
    "## Passada\n",
    "\n",
    "- Qual relação da passada com o ritmo menor/maior?"
   ]
  },
  {
   "cell_type": "markdown",
   "metadata": {},
   "source": [
    "## Ritmo\n",
    "\n",
    "- Há diferença de desempenho nos períodos manhã, tarde e noite?\n",
    "- Em que momentos do dia o desempenho foi melhor?\n",
    "- O pace/ritmo médio está evoluindo?\n",
    "- Qual o pace ideal para corridas de 5K?\n",
    "- É possível prever em quanto tempo chegarei num pace ideal?\n",
    "- Qual o Km que tem o melhor pace?\n",
    "- Como está a evolução do pace nos 5Km?\n",
    "- Qual a tendência de ritmo/pace do início da corrida até o fim?"
   ]
  },
  {
   "cell_type": "markdown",
   "metadata": {},
   "source": [
    "## Frequência cardíaca\n",
    "\n",
    "- Qual a relação da frequência cardíaca com pace menor/maior?"
   ]
  },
  {
   "cell_type": "markdown",
   "metadata": {},
   "source": [
    "# Limpeza dos dados\n",
    "\n",
    "Nessa fase são aplicadas limpezas e tratamento de dados de acordo com as necessidades."
   ]
  },
  {
   "cell_type": "markdown",
   "metadata": {},
   "source": [
    "## Transformações"
   ]
  },
  {
   "cell_type": "markdown",
   "metadata": {},
   "source": [
    "Várias colunas estão com formatos texto para representar os tempos e devem ser formatadas para números."
   ]
  },
  {
   "cell_type": "markdown",
   "metadata": {},
   "source": [
    "**Funções para transformação**"
   ]
  },
  {
   "cell_type": "code",
   "execution_count": 9,
   "metadata": {
    "ExecuteTime": {
     "end_time": "2020-03-01T00:31:41.327907Z",
     "start_time": "2020-03-01T00:31:41.321988Z"
    },
    "code_folding": []
   },
   "outputs": [],
   "source": [
    "def transform_time_into_duration_seconds(time):\n",
    "    \"\"\"\n",
    "    Tranform time string into duration in seconds.\n",
    "    \n",
    "    Attributes:\n",
    "    ----------\n",
    "    time : str\n",
    "        time string that needs to be in format \"HH:MM:SS\"\n",
    "    \n",
    "    Returns\n",
    "    -------\n",
    "    int\n",
    "        time duration in seconds      \n",
    "    \"\"\"\n",
    "    if isinstance(time, str):\n",
    "        hours, minutes, seconds = map(int, time.split(\":\"))\n",
    "        duration = (hours * 3600) + (minutes * 60) + seconds\n",
    "        return duration\n",
    "\n",
    "\n",
    "def transform_duration_seconds_into_time(seconds):\n",
    "    \"\"\"\n",
    "    Tranform durantion seconds into time.\n",
    "    \n",
    "    Attributes:\n",
    "    ----------\n",
    "    seconds : int\n",
    "        duration in seconds\n",
    "    \n",
    "    Returns\n",
    "    -------\n",
    "    str\n",
    "        time in format \"HH:MM:SS\"     \n",
    "    \"\"\"        \n",
    "    return time.strftime('%H:%M:%S', time.gmtime(seconds))"
   ]
  },
  {
   "cell_type": "markdown",
   "metadata": {},
   "source": [
    "**Aplicando a transformação**"
   ]
  },
  {
   "cell_type": "code",
   "execution_count": 5,
   "metadata": {
    "ExecuteTime": {
     "end_time": "2020-03-01T00:29:03.180250Z",
     "start_time": "2020-03-01T00:29:03.162590Z"
    }
   },
   "outputs": [],
   "source": [
    "columns = ['duration', 'avg_pace', 'min_pace', '5km_pace', '5km_duration']\n",
    "for column in columns:\n",
    "    df[column+'_sec'] = df[column].map(lambda value: transform_time_into_duration_seconds(value))"
   ]
  },
  {
   "cell_type": "code",
   "execution_count": 6,
   "metadata": {
    "ExecuteTime": {
     "end_time": "2020-03-01T00:29:03.866246Z",
     "start_time": "2020-03-01T00:29:03.838028Z"
    }
   },
   "outputs": [
    {
     "data": {
      "text/html": [
       "<div>\n",
       "<style scoped>\n",
       "    .dataframe tbody tr th:only-of-type {\n",
       "        vertical-align: middle;\n",
       "    }\n",
       "\n",
       "    .dataframe tbody tr th {\n",
       "        vertical-align: top;\n",
       "    }\n",
       "\n",
       "    .dataframe thead th {\n",
       "        text-align: right;\n",
       "    }\n",
       "</style>\n",
       "<table border=\"1\" class=\"dataframe\">\n",
       "  <thead>\n",
       "    <tr style=\"text-align: right;\">\n",
       "      <th></th>\n",
       "      <th>start_time</th>\n",
       "      <th>distance</th>\n",
       "      <th>duration</th>\n",
       "      <th>avg_pace</th>\n",
       "      <th>calories</th>\n",
       "      <th>avg_heart_rate</th>\n",
       "      <th>cadence</th>\n",
       "      <th>step</th>\n",
       "      <th>min_pace</th>\n",
       "      <th>max_heart_rate</th>\n",
       "      <th>km_min_pace</th>\n",
       "      <th>5km_pace</th>\n",
       "      <th>5km_duration</th>\n",
       "      <th>duration_sec</th>\n",
       "      <th>avg_pace_sec</th>\n",
       "      <th>min_pace_sec</th>\n",
       "      <th>5km_pace_sec</th>\n",
       "      <th>5km_duration_sec</th>\n",
       "    </tr>\n",
       "  </thead>\n",
       "  <tbody>\n",
       "    <tr>\n",
       "      <th>0</th>\n",
       "      <td>2019-11-02 17:28</td>\n",
       "      <td>3.52</td>\n",
       "      <td>00:19:57</td>\n",
       "      <td>00:05:39</td>\n",
       "      <td>266</td>\n",
       "      <td>153</td>\n",
       "      <td>159</td>\n",
       "      <td>99</td>\n",
       "      <td>00:05:09</td>\n",
       "      <td>178</td>\n",
       "      <td>1</td>\n",
       "      <td>NaN</td>\n",
       "      <td>NaN</td>\n",
       "      <td>1197</td>\n",
       "      <td>339</td>\n",
       "      <td>309</td>\n",
       "      <td>NaN</td>\n",
       "      <td>NaN</td>\n",
       "    </tr>\n",
       "    <tr>\n",
       "      <th>1</th>\n",
       "      <td>2019-11-05 16:38</td>\n",
       "      <td>5.10</td>\n",
       "      <td>00:30:24</td>\n",
       "      <td>00:05:57</td>\n",
       "      <td>375</td>\n",
       "      <td>154</td>\n",
       "      <td>164</td>\n",
       "      <td>92</td>\n",
       "      <td>00:05:37</td>\n",
       "      <td>180</td>\n",
       "      <td>2</td>\n",
       "      <td>00:05:55</td>\n",
       "      <td>00:29:40</td>\n",
       "      <td>1824</td>\n",
       "      <td>357</td>\n",
       "      <td>337</td>\n",
       "      <td>355.0</td>\n",
       "      <td>1780.0</td>\n",
       "    </tr>\n",
       "    <tr>\n",
       "      <th>2</th>\n",
       "      <td>2019-11-08 17:52</td>\n",
       "      <td>4.09</td>\n",
       "      <td>00:23:16</td>\n",
       "      <td>00:05:41</td>\n",
       "      <td>296</td>\n",
       "      <td>157</td>\n",
       "      <td>162</td>\n",
       "      <td>96</td>\n",
       "      <td>00:05:21</td>\n",
       "      <td>180</td>\n",
       "      <td>3</td>\n",
       "      <td>NaN</td>\n",
       "      <td>NaN</td>\n",
       "      <td>1396</td>\n",
       "      <td>341</td>\n",
       "      <td>321</td>\n",
       "      <td>NaN</td>\n",
       "      <td>NaN</td>\n",
       "    </tr>\n",
       "    <tr>\n",
       "      <th>3</th>\n",
       "      <td>2019-11-11 17:29</td>\n",
       "      <td>5.51</td>\n",
       "      <td>00:30:35</td>\n",
       "      <td>00:05:32</td>\n",
       "      <td>422</td>\n",
       "      <td>167</td>\n",
       "      <td>165</td>\n",
       "      <td>96</td>\n",
       "      <td>00:05:20</td>\n",
       "      <td>179</td>\n",
       "      <td>1</td>\n",
       "      <td>00:05:50</td>\n",
       "      <td>00:27:22</td>\n",
       "      <td>1835</td>\n",
       "      <td>332</td>\n",
       "      <td>320</td>\n",
       "      <td>350.0</td>\n",
       "      <td>1642.0</td>\n",
       "    </tr>\n",
       "    <tr>\n",
       "      <th>4</th>\n",
       "      <td>2019-11-13 17:00</td>\n",
       "      <td>5.37</td>\n",
       "      <td>00:30:23</td>\n",
       "      <td>00:05:39</td>\n",
       "      <td>393</td>\n",
       "      <td>156</td>\n",
       "      <td>162</td>\n",
       "      <td>99</td>\n",
       "      <td>00:05:29</td>\n",
       "      <td>177</td>\n",
       "      <td>3</td>\n",
       "      <td>00:05:47</td>\n",
       "      <td>00:28:05</td>\n",
       "      <td>1823</td>\n",
       "      <td>339</td>\n",
       "      <td>329</td>\n",
       "      <td>347.0</td>\n",
       "      <td>1685.0</td>\n",
       "    </tr>\n",
       "  </tbody>\n",
       "</table>\n",
       "</div>"
      ],
      "text/plain": [
       "         start_time  distance  duration  avg_pace  calories  avg_heart_rate  \\\n",
       "0  2019-11-02 17:28      3.52  00:19:57  00:05:39       266             153   \n",
       "1  2019-11-05 16:38      5.10  00:30:24  00:05:57       375             154   \n",
       "2  2019-11-08 17:52      4.09  00:23:16  00:05:41       296             157   \n",
       "3  2019-11-11 17:29      5.51  00:30:35  00:05:32       422             167   \n",
       "4  2019-11-13 17:00      5.37  00:30:23  00:05:39       393             156   \n",
       "\n",
       "   cadence  step  min_pace  max_heart_rate  km_min_pace  5km_pace  \\\n",
       "0      159    99  00:05:09             178            1       NaN   \n",
       "1      164    92  00:05:37             180            2  00:05:55   \n",
       "2      162    96  00:05:21             180            3       NaN   \n",
       "3      165    96  00:05:20             179            1  00:05:50   \n",
       "4      162    99  00:05:29             177            3  00:05:47   \n",
       "\n",
       "  5km_duration  duration_sec  avg_pace_sec  min_pace_sec  5km_pace_sec  \\\n",
       "0          NaN          1197           339           309           NaN   \n",
       "1     00:29:40          1824           357           337         355.0   \n",
       "2          NaN          1396           341           321           NaN   \n",
       "3     00:27:22          1835           332           320         350.0   \n",
       "4     00:28:05          1823           339           329         347.0   \n",
       "\n",
       "   5km_duration_sec  \n",
       "0               NaN  \n",
       "1            1780.0  \n",
       "2               NaN  \n",
       "3            1642.0  \n",
       "4            1685.0  "
      ]
     },
     "execution_count": 6,
     "metadata": {},
     "output_type": "execute_result"
    }
   ],
   "source": [
    "df.head()"
   ]
  },
  {
   "cell_type": "markdown",
   "metadata": {},
   "source": [
    "## Dados faltantes"
   ]
  },
  {
   "cell_type": "code",
   "execution_count": 14,
   "metadata": {
    "ExecuteTime": {
     "end_time": "2020-03-01T00:34:21.917399Z",
     "start_time": "2020-03-01T00:34:21.905787Z"
    }
   },
   "outputs": [
    {
     "data": {
      "text/plain": [
       "start_time           0\n",
       "distance             0\n",
       "duration             0\n",
       "avg_pace             0\n",
       "calories             0\n",
       "avg_heart_rate       0\n",
       "cadence              0\n",
       "step                 0\n",
       "min_pace             0\n",
       "max_heart_rate       0\n",
       "km_min_pace          0\n",
       "5km_pace            11\n",
       "5km_duration        11\n",
       "duration_sec         0\n",
       "avg_pace_sec         0\n",
       "min_pace_sec         0\n",
       "5km_pace_sec        11\n",
       "5km_duration_sec    11\n",
       "dtype: int64"
      ]
     },
     "execution_count": 14,
     "metadata": {},
     "output_type": "execute_result"
    }
   ],
   "source": [
    "df.isna().sum()"
   ]
  },
  {
   "cell_type": "markdown",
   "metadata": {},
   "source": [
    "A coluna **5km_pace** e **5km_duration** tem linhas que possuem valor nulo, que são aquelas em que a distância percorrida não passou dos 5Km. \n",
    "\n",
    "Para estes casos, será atribuído a média dessa coluna, com base nas linhas que tem valor registrado."
   ]
  },
  {
   "cell_type": "code",
   "execution_count": null,
   "metadata": {},
   "outputs": [],
   "source": [
    "#..."
   ]
  },
  {
   "cell_type": "markdown",
   "metadata": {},
   "source": [
    "# Análise Exploratória\n",
    "\n",
    "Nessa fase são feitas as análise de forma a responder as perguntas elencadas anteriormente."
   ]
  },
  {
   "cell_type": "code",
   "execution_count": 15,
   "metadata": {
    "ExecuteTime": {
     "end_time": "2020-03-01T00:41:34.688498Z",
     "start_time": "2020-03-01T00:41:34.639745Z"
    }
   },
   "outputs": [
    {
     "data": {
      "text/html": [
       "<div>\n",
       "<style scoped>\n",
       "    .dataframe tbody tr th:only-of-type {\n",
       "        vertical-align: middle;\n",
       "    }\n",
       "\n",
       "    .dataframe tbody tr th {\n",
       "        vertical-align: top;\n",
       "    }\n",
       "\n",
       "    .dataframe thead th {\n",
       "        text-align: right;\n",
       "    }\n",
       "</style>\n",
       "<table border=\"1\" class=\"dataframe\">\n",
       "  <thead>\n",
       "    <tr style=\"text-align: right;\">\n",
       "      <th></th>\n",
       "      <th>distance</th>\n",
       "      <th>calories</th>\n",
       "      <th>avg_heart_rate</th>\n",
       "      <th>cadence</th>\n",
       "      <th>step</th>\n",
       "      <th>max_heart_rate</th>\n",
       "      <th>km_min_pace</th>\n",
       "      <th>duration_sec</th>\n",
       "      <th>avg_pace_sec</th>\n",
       "      <th>min_pace_sec</th>\n",
       "      <th>5km_pace_sec</th>\n",
       "      <th>5km_duration_sec</th>\n",
       "    </tr>\n",
       "  </thead>\n",
       "  <tbody>\n",
       "    <tr>\n",
       "      <th>count</th>\n",
       "      <td>36.000000</td>\n",
       "      <td>36.000000</td>\n",
       "      <td>36.000000</td>\n",
       "      <td>36.000000</td>\n",
       "      <td>36.000000</td>\n",
       "      <td>36.000000</td>\n",
       "      <td>36.000000</td>\n",
       "      <td>36.000000</td>\n",
       "      <td>36.000000</td>\n",
       "      <td>36.000000</td>\n",
       "      <td>25.000000</td>\n",
       "      <td>25.000000</td>\n",
       "    </tr>\n",
       "    <tr>\n",
       "      <th>mean</th>\n",
       "      <td>5.125000</td>\n",
       "      <td>372.888889</td>\n",
       "      <td>158.694444</td>\n",
       "      <td>163.611111</td>\n",
       "      <td>100.611111</td>\n",
       "      <td>175.666667</td>\n",
       "      <td>2.250000</td>\n",
       "      <td>1735.416667</td>\n",
       "      <td>340.111111</td>\n",
       "      <td>322.833333</td>\n",
       "      <td>338.160000</td>\n",
       "      <td>1659.680000</td>\n",
       "    </tr>\n",
       "    <tr>\n",
       "      <th>std</th>\n",
       "      <td>1.137053</td>\n",
       "      <td>90.478972</td>\n",
       "      <td>6.602248</td>\n",
       "      <td>4.224269</td>\n",
       "      <td>11.339634</td>\n",
       "      <td>3.824732</td>\n",
       "      <td>1.250714</td>\n",
       "      <td>356.289319</td>\n",
       "      <td>20.112225</td>\n",
       "      <td>15.977663</td>\n",
       "      <td>11.327253</td>\n",
       "      <td>44.670759</td>\n",
       "    </tr>\n",
       "    <tr>\n",
       "      <th>min</th>\n",
       "      <td>2.510000</td>\n",
       "      <td>176.000000</td>\n",
       "      <td>134.000000</td>\n",
       "      <td>145.000000</td>\n",
       "      <td>81.000000</td>\n",
       "      <td>166.000000</td>\n",
       "      <td>1.000000</td>\n",
       "      <td>912.000000</td>\n",
       "      <td>315.000000</td>\n",
       "      <td>277.000000</td>\n",
       "      <td>317.000000</td>\n",
       "      <td>1557.000000</td>\n",
       "    </tr>\n",
       "    <tr>\n",
       "      <th>25%</th>\n",
       "      <td>4.482500</td>\n",
       "      <td>320.500000</td>\n",
       "      <td>155.000000</td>\n",
       "      <td>162.000000</td>\n",
       "      <td>96.000000</td>\n",
       "      <td>173.000000</td>\n",
       "      <td>1.000000</td>\n",
       "      <td>1553.250000</td>\n",
       "      <td>331.750000</td>\n",
       "      <td>315.000000</td>\n",
       "      <td>332.000000</td>\n",
       "      <td>1642.000000</td>\n",
       "    </tr>\n",
       "    <tr>\n",
       "      <th>50%</th>\n",
       "      <td>5.350000</td>\n",
       "      <td>381.000000</td>\n",
       "      <td>159.000000</td>\n",
       "      <td>164.000000</td>\n",
       "      <td>98.000000</td>\n",
       "      <td>176.500000</td>\n",
       "      <td>2.000000</td>\n",
       "      <td>1801.500000</td>\n",
       "      <td>337.500000</td>\n",
       "      <td>323.500000</td>\n",
       "      <td>339.000000</td>\n",
       "      <td>1666.000000</td>\n",
       "    </tr>\n",
       "    <tr>\n",
       "      <th>75%</th>\n",
       "      <td>6.010000</td>\n",
       "      <td>438.000000</td>\n",
       "      <td>163.250000</td>\n",
       "      <td>166.000000</td>\n",
       "      <td>100.000000</td>\n",
       "      <td>178.000000</td>\n",
       "      <td>3.000000</td>\n",
       "      <td>1977.000000</td>\n",
       "      <td>342.250000</td>\n",
       "      <td>328.250000</td>\n",
       "      <td>348.000000</td>\n",
       "      <td>1684.000000</td>\n",
       "    </tr>\n",
       "    <tr>\n",
       "      <th>max</th>\n",
       "      <td>7.350000</td>\n",
       "      <td>553.000000</td>\n",
       "      <td>167.000000</td>\n",
       "      <td>168.000000</td>\n",
       "      <td>141.000000</td>\n",
       "      <td>184.000000</td>\n",
       "      <td>5.000000</td>\n",
       "      <td>2449.000000</td>\n",
       "      <td>440.000000</td>\n",
       "      <td>383.000000</td>\n",
       "      <td>355.000000</td>\n",
       "      <td>1780.000000</td>\n",
       "    </tr>\n",
       "  </tbody>\n",
       "</table>\n",
       "</div>"
      ],
      "text/plain": [
       "        distance    calories  avg_heart_rate     cadence        step  \\\n",
       "count  36.000000   36.000000       36.000000   36.000000   36.000000   \n",
       "mean    5.125000  372.888889      158.694444  163.611111  100.611111   \n",
       "std     1.137053   90.478972        6.602248    4.224269   11.339634   \n",
       "min     2.510000  176.000000      134.000000  145.000000   81.000000   \n",
       "25%     4.482500  320.500000      155.000000  162.000000   96.000000   \n",
       "50%     5.350000  381.000000      159.000000  164.000000   98.000000   \n",
       "75%     6.010000  438.000000      163.250000  166.000000  100.000000   \n",
       "max     7.350000  553.000000      167.000000  168.000000  141.000000   \n",
       "\n",
       "       max_heart_rate  km_min_pace  duration_sec  avg_pace_sec  min_pace_sec  \\\n",
       "count       36.000000    36.000000     36.000000     36.000000     36.000000   \n",
       "mean       175.666667     2.250000   1735.416667    340.111111    322.833333   \n",
       "std          3.824732     1.250714    356.289319     20.112225     15.977663   \n",
       "min        166.000000     1.000000    912.000000    315.000000    277.000000   \n",
       "25%        173.000000     1.000000   1553.250000    331.750000    315.000000   \n",
       "50%        176.500000     2.000000   1801.500000    337.500000    323.500000   \n",
       "75%        178.000000     3.000000   1977.000000    342.250000    328.250000   \n",
       "max        184.000000     5.000000   2449.000000    440.000000    383.000000   \n",
       "\n",
       "       5km_pace_sec  5km_duration_sec  \n",
       "count     25.000000         25.000000  \n",
       "mean     338.160000       1659.680000  \n",
       "std       11.327253         44.670759  \n",
       "min      317.000000       1557.000000  \n",
       "25%      332.000000       1642.000000  \n",
       "50%      339.000000       1666.000000  \n",
       "75%      348.000000       1684.000000  \n",
       "max      355.000000       1780.000000  "
      ]
     },
     "execution_count": 15,
     "metadata": {},
     "output_type": "execute_result"
    }
   ],
   "source": [
    "df.describe()"
   ]
  },
  {
   "cell_type": "markdown",
   "metadata": {
    "ExecuteTime": {
     "end_time": "2020-02-23T23:22:53.535887Z",
     "start_time": "2020-02-23T23:22:53.529181Z"
    }
   },
   "source": [
    "CONTINUA..."
   ]
  },
  {
   "cell_type": "code",
   "execution_count": 20,
   "metadata": {
    "ExecuteTime": {
     "end_time": "2020-03-01T00:50:39.252908Z",
     "start_time": "2020-03-01T00:50:39.096615Z"
    }
   },
   "outputs": [
    {
     "data": {
      "text/plain": [
       "<matplotlib.axes._subplots.AxesSubplot at 0x7fe7f1b146a0>"
      ]
     },
     "execution_count": 20,
     "metadata": {},
     "output_type": "execute_result"
    },
    {
     "data": {
      "image/png": "[encoded data removed]",
      "text/plain": [
       "<Figure size 432x288 with 1 Axes>"
      ]
     },
     "metadata": {
      "needs_background": "light"
     },
     "output_type": "display_data"
    }
   ],
   "source": [
    "sns.scatterplot(data = df, x = 'cadence', y = 'duration_sec')"
   ]
  },
  {
   "cell_type": "code",
   "execution_count": 22,
   "metadata": {
    "ExecuteTime": {
     "end_time": "2020-03-01T00:53:29.195327Z",
     "start_time": "2020-03-01T00:53:29.038850Z"
    }
   },
   "outputs": [
    {
     "data": {
      "text/plain": [
       "<matplotlib.axes._subplots.AxesSubplot at 0x7fe7f5ae5f98>"
      ]
     },
     "execution_count": 22,
     "metadata": {},
     "output_type": "execute_result"
    },
    {
     "data": {
      "image/png": "[encoded data removed]",
      "text/plain": [
       "<Figure size 432x288 with 1 Axes>"
      ]
     },
     "metadata": {
      "needs_background": "light"
     },
     "output_type": "display_data"
    }
   ],
   "source": [
    "sns.scatterplot(data = df, x = 'calories', y = 'distance')"
   ]
  },
  {
   "cell_type": "code",
   "execution_count": 23,
   "metadata": {
    "ExecuteTime": {
     "end_time": "2020-03-01T00:55:02.222006Z",
     "start_time": "2020-03-01T00:55:02.187841Z"
    }
   },
   "outputs": [
    {
     "data": {
      "text/html": [
       "<div>\n",
       "<style scoped>\n",
       "    .dataframe tbody tr th:only-of-type {\n",
       "        vertical-align: middle;\n",
       "    }\n",
       "\n",
       "    .dataframe tbody tr th {\n",
       "        vertical-align: top;\n",
       "    }\n",
       "\n",
       "    .dataframe thead th {\n",
       "        text-align: right;\n",
       "    }\n",
       "</style>\n",
       "<table border=\"1\" class=\"dataframe\">\n",
       "  <thead>\n",
       "    <tr style=\"text-align: right;\">\n",
       "      <th></th>\n",
       "      <th>distance</th>\n",
       "      <th>calories</th>\n",
       "      <th>avg_heart_rate</th>\n",
       "      <th>cadence</th>\n",
       "      <th>step</th>\n",
       "      <th>max_heart_rate</th>\n",
       "      <th>km_min_pace</th>\n",
       "      <th>duration_sec</th>\n",
       "      <th>avg_pace_sec</th>\n",
       "      <th>min_pace_sec</th>\n",
       "      <th>5km_pace_sec</th>\n",
       "      <th>5km_duration_sec</th>\n",
       "    </tr>\n",
       "  </thead>\n",
       "  <tbody>\n",
       "    <tr>\n",
       "      <th>distance</th>\n",
       "      <td>1.000000</td>\n",
       "      <td>0.942494</td>\n",
       "      <td>0.619128</td>\n",
       "      <td>0.644687</td>\n",
       "      <td>0.093711</td>\n",
       "      <td>0.409823</td>\n",
       "      <td>0.278958</td>\n",
       "      <td>0.987188</td>\n",
       "      <td>-0.547212</td>\n",
       "      <td>-0.407432</td>\n",
       "      <td>-0.348324</td>\n",
       "      <td>-0.109705</td>\n",
       "    </tr>\n",
       "    <tr>\n",
       "      <th>calories</th>\n",
       "      <td>0.942494</td>\n",
       "      <td>1.000000</td>\n",
       "      <td>0.513483</td>\n",
       "      <td>0.529738</td>\n",
       "      <td>-0.113605</td>\n",
       "      <td>0.335342</td>\n",
       "      <td>0.237583</td>\n",
       "      <td>0.940729</td>\n",
       "      <td>-0.479906</td>\n",
       "      <td>-0.378649</td>\n",
       "      <td>-0.214512</td>\n",
       "      <td>0.033338</td>\n",
       "    </tr>\n",
       "    <tr>\n",
       "      <th>avg_heart_rate</th>\n",
       "      <td>0.619128</td>\n",
       "      <td>0.513483</td>\n",
       "      <td>1.000000</td>\n",
       "      <td>0.766000</td>\n",
       "      <td>0.399459</td>\n",
       "      <td>0.499351</td>\n",
       "      <td>-0.080446</td>\n",
       "      <td>0.557927</td>\n",
       "      <td>-0.690645</td>\n",
       "      <td>-0.498317</td>\n",
       "      <td>0.099893</td>\n",
       "      <td>-0.257491</td>\n",
       "    </tr>\n",
       "    <tr>\n",
       "      <th>cadence</th>\n",
       "      <td>0.644687</td>\n",
       "      <td>0.529738</td>\n",
       "      <td>0.766000</td>\n",
       "      <td>1.000000</td>\n",
       "      <td>0.407117</td>\n",
       "      <td>0.600076</td>\n",
       "      <td>0.083821</td>\n",
       "      <td>0.550615</td>\n",
       "      <td>-0.854002</td>\n",
       "      <td>-0.677874</td>\n",
       "      <td>-0.193077</td>\n",
       "      <td>-0.460483</td>\n",
       "    </tr>\n",
       "    <tr>\n",
       "      <th>step</th>\n",
       "      <td>0.093711</td>\n",
       "      <td>-0.113605</td>\n",
       "      <td>0.399459</td>\n",
       "      <td>0.407117</td>\n",
       "      <td>1.000000</td>\n",
       "      <td>0.075319</td>\n",
       "      <td>0.093676</td>\n",
       "      <td>0.040973</td>\n",
       "      <td>-0.355092</td>\n",
       "      <td>-0.112490</td>\n",
       "      <td>-0.033344</td>\n",
       "      <td>-0.182243</td>\n",
       "    </tr>\n",
       "    <tr>\n",
       "      <th>max_heart_rate</th>\n",
       "      <td>0.409823</td>\n",
       "      <td>0.335342</td>\n",
       "      <td>0.499351</td>\n",
       "      <td>0.600076</td>\n",
       "      <td>0.075319</td>\n",
       "      <td>1.000000</td>\n",
       "      <td>0.179182</td>\n",
       "      <td>0.351400</td>\n",
       "      <td>-0.544756</td>\n",
       "      <td>-0.509150</td>\n",
       "      <td>0.285551</td>\n",
       "      <td>0.011423</td>\n",
       "    </tr>\n",
       "    <tr>\n",
       "      <th>km_min_pace</th>\n",
       "      <td>0.278958</td>\n",
       "      <td>0.237583</td>\n",
       "      <td>-0.080446</td>\n",
       "      <td>0.083821</td>\n",
       "      <td>0.093676</td>\n",
       "      <td>0.179182</td>\n",
       "      <td>1.000000</td>\n",
       "      <td>0.289375</td>\n",
       "      <td>-0.080644</td>\n",
       "      <td>0.109376</td>\n",
       "      <td>-0.204711</td>\n",
       "      <td>0.178416</td>\n",
       "    </tr>\n",
       "    <tr>\n",
       "      <th>duration_sec</th>\n",
       "      <td>0.987188</td>\n",
       "      <td>0.940729</td>\n",
       "      <td>0.557927</td>\n",
       "      <td>0.550615</td>\n",
       "      <td>0.040973</td>\n",
       "      <td>0.351400</td>\n",
       "      <td>0.289375</td>\n",
       "      <td>1.000000</td>\n",
       "      <td>-0.415761</td>\n",
       "      <td>-0.273979</td>\n",
       "      <td>-0.218023</td>\n",
       "      <td>0.119110</td>\n",
       "    </tr>\n",
       "    <tr>\n",
       "      <th>avg_pace_sec</th>\n",
       "      <td>-0.547212</td>\n",
       "      <td>-0.479906</td>\n",
       "      <td>-0.690645</td>\n",
       "      <td>-0.854002</td>\n",
       "      <td>-0.355092</td>\n",
       "      <td>-0.544756</td>\n",
       "      <td>-0.080644</td>\n",
       "      <td>-0.415761</td>\n",
       "      <td>1.000000</td>\n",
       "      <td>0.855478</td>\n",
       "      <td>0.480609</td>\n",
       "      <td>0.952315</td>\n",
       "    </tr>\n",
       "    <tr>\n",
       "      <th>min_pace_sec</th>\n",
       "      <td>-0.407432</td>\n",
       "      <td>-0.378649</td>\n",
       "      <td>-0.498317</td>\n",
       "      <td>-0.677874</td>\n",
       "      <td>-0.112490</td>\n",
       "      <td>-0.509150</td>\n",
       "      <td>0.109376</td>\n",
       "      <td>-0.273979</td>\n",
       "      <td>0.855478</td>\n",
       "      <td>1.000000</td>\n",
       "      <td>0.391111</td>\n",
       "      <td>0.852310</td>\n",
       "    </tr>\n",
       "    <tr>\n",
       "      <th>5km_pace_sec</th>\n",
       "      <td>-0.348324</td>\n",
       "      <td>-0.214512</td>\n",
       "      <td>0.099893</td>\n",
       "      <td>-0.193077</td>\n",
       "      <td>-0.033344</td>\n",
       "      <td>0.285551</td>\n",
       "      <td>-0.204711</td>\n",
       "      <td>-0.218023</td>\n",
       "      <td>0.480609</td>\n",
       "      <td>0.391111</td>\n",
       "      <td>1.000000</td>\n",
       "      <td>0.511472</td>\n",
       "    </tr>\n",
       "    <tr>\n",
       "      <th>5km_duration_sec</th>\n",
       "      <td>-0.109705</td>\n",
       "      <td>0.033338</td>\n",
       "      <td>-0.257491</td>\n",
       "      <td>-0.460483</td>\n",
       "      <td>-0.182243</td>\n",
       "      <td>0.011423</td>\n",
       "      <td>0.178416</td>\n",
       "      <td>0.119110</td>\n",
       "      <td>0.952315</td>\n",
       "      <td>0.852310</td>\n",
       "      <td>0.511472</td>\n",
       "      <td>1.000000</td>\n",
       "    </tr>\n",
       "  </tbody>\n",
       "</table>\n",
       "</div>"
      ],
      "text/plain": [
       "                  distance  calories  avg_heart_rate   cadence      step  \\\n",
       "distance          1.000000  0.942494        0.619128  0.644687  0.093711   \n",
       "calories          0.942494  1.000000        0.513483  0.529738 -0.113605   \n",
       "avg_heart_rate    0.619128  0.513483        1.000000  0.766000  0.399459   \n",
       "cadence           0.644687  0.529738        0.766000  1.000000  0.407117   \n",
       "step              0.093711 -0.113605        0.399459  0.407117  1.000000   \n",
       "max_heart_rate    0.409823  0.335342        0.499351  0.600076  0.075319   \n",
       "km_min_pace       0.278958  0.237583       -0.080446  0.083821  0.093676   \n",
       "duration_sec      0.987188  0.940729        0.557927  0.550615  0.040973   \n",
       "avg_pace_sec     -0.547212 -0.479906       -0.690645 -0.854002 -0.355092   \n",
       "min_pace_sec     -0.407432 -0.378649       -0.498317 -0.677874 -0.112490   \n",
       "5km_pace_sec     -0.348324 -0.214512        0.099893 -0.193077 -0.033344   \n",
       "5km_duration_sec -0.109705  0.033338       -0.257491 -0.460483 -0.182243   \n",
       "\n",
       "                  max_heart_rate  km_min_pace  duration_sec  avg_pace_sec  \\\n",
       "distance                0.409823     0.278958      0.987188     -0.547212   \n",
       "calories                0.335342     0.237583      0.940729     -0.479906   \n",
       "avg_heart_rate          0.499351    -0.080446      0.557927     -0.690645   \n",
       "cadence                 0.600076     0.083821      0.550615     -0.854002   \n",
       "step                    0.075319     0.093676      0.040973     -0.355092   \n",
       "max_heart_rate          1.000000     0.179182      0.351400     -0.544756   \n",
       "km_min_pace             0.179182     1.000000      0.289375     -0.080644   \n",
       "duration_sec            0.351400     0.289375      1.000000     -0.415761   \n",
       "avg_pace_sec           -0.544756    -0.080644     -0.415761      1.000000   \n",
       "min_pace_sec           -0.509150     0.109376     -0.273979      0.855478   \n",
       "5km_pace_sec            0.285551    -0.204711     -0.218023      0.480609   \n",
       "5km_duration_sec        0.011423     0.178416      0.119110      0.952315   \n",
       "\n",
       "                  min_pace_sec  5km_pace_sec  5km_duration_sec  \n",
       "distance             -0.407432     -0.348324         -0.109705  \n",
       "calories             -0.378649     -0.214512          0.033338  \n",
       "avg_heart_rate       -0.498317      0.099893         -0.257491  \n",
       "cadence              -0.677874     -0.193077         -0.460483  \n",
       "step                 -0.112490     -0.033344         -0.182243  \n",
       "max_heart_rate       -0.509150      0.285551          0.011423  \n",
       "km_min_pace           0.109376     -0.204711          0.178416  \n",
       "duration_sec         -0.273979     -0.218023          0.119110  \n",
       "avg_pace_sec          0.855478      0.480609          0.952315  \n",
       "min_pace_sec          1.000000      0.391111          0.852310  \n",
       "5km_pace_sec          0.391111      1.000000          0.511472  \n",
       "5km_duration_sec      0.852310      0.511472          1.000000  "
      ]
     },
     "execution_count": 23,
     "metadata": {},
     "output_type": "execute_result"
    }
   ],
   "source": [
    "df.corr()"
   ]
  },
  {
   "cell_type": "code",
   "execution_count": 31,
   "metadata": {
    "ExecuteTime": {
     "end_time": "2020-03-01T01:08:36.317620Z",
     "start_time": "2020-03-01T01:08:35.672627Z"
    }
   },
   "outputs": [
    {
     "data": {
      "image/png": "[encoded data removed]",
      "text/plain": [
       "<Figure size 1008x720 with 2 Axes>"
      ]
     },
     "metadata": {
      "needs_background": "light"
     },
     "output_type": "display_data"
    }
   ],
   "source": [
    "plt.figure(figsize=(14,10))\n",
    "sns.heatmap(df.corr(), annot=True)\n",
    "plt.show()"
   ]
  },
  {
   "cell_type": "code",
   "execution_count": 32,
   "metadata": {
    "ExecuteTime": {
     "end_time": "2020-03-01T01:23:11.618668Z",
     "start_time": "2020-03-01T01:23:11.451001Z"
    }
   },
   "outputs": [
    {
     "data": {
      "text/plain": [
       "<matplotlib.axes._subplots.AxesSubplot at 0x7fe7ed3795c0>"
      ]
     },
     "execution_count": 32,
     "metadata": {},
     "output_type": "execute_result"
    },
    {
     "data": {
      "image/png": "[encoded data removed]",
      "text/plain": [
       "<Figure size 432x288 with 1 Axes>"
      ]
     },
     "metadata": {
      "needs_background": "light"
     },
     "output_type": "display_data"
    }
   ],
   "source": [
    "sns.scatterplot(data = df, x = 'cadence', y = 'avg_pace_sec')"
   ]
  },
  {
   "cell_type": "code",
   "execution_count": null,
   "metadata": {},
   "outputs": [],
   "source": []
  }
 ],
 "metadata": {
  "kernelspec": {
   "display_name": "Python 3",
   "language": "python",
   "name": "python3"
  },
  "language_info": {
   "codemirror_mode": {
    "name": "ipython",
    "version": 3
   },
   "file_extension": ".py",
   "mimetype": "text/x-python",
   "name": "python",
   "nbconvert_exporter": "python",
   "pygments_lexer": "ipython3",
   "version": "3.7.3"
  },
  "toc": {
   "base_numbering": 1,
   "nav_menu": {},
   "number_sections": true,
   "sideBar": true,
   "skip_h1_title": false,
   "title_cell": "Table of Contents",
   "title_sidebar": "Contents",
   "toc_cell": false,
   "toc_position": {},
   "toc_section_display": true,
   "toc_window_display": true
  }
 },
 "nbformat": 4,
 "nbformat_minor": 2
}
