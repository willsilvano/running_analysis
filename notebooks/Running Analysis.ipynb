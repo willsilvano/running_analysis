{
 "cells": [
  {
   "cell_type": "markdown",
   "metadata": {
    "ExecuteTime": {
     "end_time": "2020-02-23T22:25:07.471204Z",
     "start_time": "2020-02-23T22:25:07.468209Z"
    }
   },
   "source": [
    "<img src=\"https://images.pexels.com/photos/2803160/pexels-photo-2803160.jpeg?auto=compress&cs=tinysrgb&dpr=2&h=750&w=1260\" style=\"height: 650px\" />\n",
    "Fonte: <a href=\"https://www.pexels.com/pt-br/foto/adulto-ao-ar-livre-atividade-fisica-atleta-2803160/\" target=\"_blank\">Pexels.com<a>"
   ]
  },
  {
   "cell_type": "markdown",
   "metadata": {},
   "source": [
    "# Introdução"
   ]
  },
  {
   "cell_type": "markdown",
   "metadata": {},
   "source": [
    "Este projeto tem por objetivo efetuar análise exploratório e aplicar técnicas de machine learning para encontrar padrões e coisas interessantes sobre um conjunto de dados pessoal.\n",
    "\n",
    "Esse conjunto de dados representa dados de corridas de rua realizadas por mim.\n",
    "\n",
    "Os dados foram extraídos manualmente a partir do aplicativo MiFit que armazena os dados de exercícios coletados pelo smartwatch Amazfit Bip da Xiaomi."
   ]
  },
  {
   "cell_type": "markdown",
   "metadata": {},
   "source": [
    "# Imports"
   ]
  },
  {
   "cell_type": "code",
   "execution_count": 83,
   "metadata": {
    "ExecuteTime": {
     "end_time": "2020-02-25T20:29:42.268187Z",
     "start_time": "2020-02-25T20:29:42.256955Z"
    }
   },
   "outputs": [],
   "source": [
    "import pandas as pd\n",
    "import numpy as np\n",
    "import time\n",
    "\n",
    "%matplotlib inline"
   ]
  },
  {
   "cell_type": "markdown",
   "metadata": {},
   "source": [
    "# Leitura dos dados"
   ]
  },
  {
   "cell_type": "code",
   "execution_count": 12,
   "metadata": {
    "ExecuteTime": {
     "end_time": "2020-02-25T19:06:23.878460Z",
     "start_time": "2020-02-25T19:06:23.842542Z"
    },
    "scrolled": true
   },
   "outputs": [
    {
     "data": {
      "text/html": [
       "<div>\n",
       "<style scoped>\n",
       "    .dataframe tbody tr th:only-of-type {\n",
       "        vertical-align: middle;\n",
       "    }\n",
       "\n",
       "    .dataframe tbody tr th {\n",
       "        vertical-align: top;\n",
       "    }\n",
       "\n",
       "    .dataframe thead th {\n",
       "        text-align: right;\n",
       "    }\n",
       "</style>\n",
       "<table border=\"1\" class=\"dataframe\">\n",
       "  <thead>\n",
       "    <tr style=\"text-align: right;\">\n",
       "      <th></th>\n",
       "      <th>start_time</th>\n",
       "      <th>distance</th>\n",
       "      <th>duration</th>\n",
       "      <th>avg_pace</th>\n",
       "      <th>calories</th>\n",
       "      <th>avg_heart_rate</th>\n",
       "      <th>cadence</th>\n",
       "      <th>step</th>\n",
       "      <th>min_pace</th>\n",
       "      <th>max_heart_rate</th>\n",
       "      <th>km_min_pace</th>\n",
       "      <th>5km_pace</th>\n",
       "    </tr>\n",
       "  </thead>\n",
       "  <tbody>\n",
       "    <tr>\n",
       "      <th>0</th>\n",
       "      <td>2019-11-02 17:28</td>\n",
       "      <td>3.52</td>\n",
       "      <td>00:19:57</td>\n",
       "      <td>00:05:39</td>\n",
       "      <td>266</td>\n",
       "      <td>153</td>\n",
       "      <td>159</td>\n",
       "      <td>99</td>\n",
       "      <td>00:05:09</td>\n",
       "      <td>178</td>\n",
       "      <td>1</td>\n",
       "      <td>NaN</td>\n",
       "    </tr>\n",
       "    <tr>\n",
       "      <th>1</th>\n",
       "      <td>2019-11-05 16:38</td>\n",
       "      <td>5.10</td>\n",
       "      <td>00:30:24</td>\n",
       "      <td>00:05:57</td>\n",
       "      <td>375</td>\n",
       "      <td>154</td>\n",
       "      <td>164</td>\n",
       "      <td>92</td>\n",
       "      <td>00:05:37</td>\n",
       "      <td>180</td>\n",
       "      <td>2</td>\n",
       "      <td>00:05:55</td>\n",
       "    </tr>\n",
       "    <tr>\n",
       "      <th>2</th>\n",
       "      <td>2019-11-08 17:52</td>\n",
       "      <td>4.09</td>\n",
       "      <td>00:23:16</td>\n",
       "      <td>00:05:41</td>\n",
       "      <td>296</td>\n",
       "      <td>157</td>\n",
       "      <td>162</td>\n",
       "      <td>96</td>\n",
       "      <td>00:05:21</td>\n",
       "      <td>180</td>\n",
       "      <td>3</td>\n",
       "      <td>NaN</td>\n",
       "    </tr>\n",
       "    <tr>\n",
       "      <th>3</th>\n",
       "      <td>2019-11-11 17:29</td>\n",
       "      <td>5.51</td>\n",
       "      <td>00:30:35</td>\n",
       "      <td>00:05:32</td>\n",
       "      <td>422</td>\n",
       "      <td>167</td>\n",
       "      <td>165</td>\n",
       "      <td>96</td>\n",
       "      <td>00:05:20</td>\n",
       "      <td>179</td>\n",
       "      <td>1</td>\n",
       "      <td>00:05:50</td>\n",
       "    </tr>\n",
       "    <tr>\n",
       "      <th>4</th>\n",
       "      <td>2019-11-13 17:00</td>\n",
       "      <td>5.37</td>\n",
       "      <td>00:30:23</td>\n",
       "      <td>00:05:39</td>\n",
       "      <td>393</td>\n",
       "      <td>156</td>\n",
       "      <td>162</td>\n",
       "      <td>99</td>\n",
       "      <td>00:05:29</td>\n",
       "      <td>177</td>\n",
       "      <td>3</td>\n",
       "      <td>00:05:47</td>\n",
       "    </tr>\n",
       "  </tbody>\n",
       "</table>\n",
       "</div>"
      ],
      "text/plain": [
       "         start_time  distance  duration  avg_pace  calories  avg_heart_rate  \\\n",
       "0  2019-11-02 17:28      3.52  00:19:57  00:05:39       266             153   \n",
       "1  2019-11-05 16:38      5.10  00:30:24  00:05:57       375             154   \n",
       "2  2019-11-08 17:52      4.09  00:23:16  00:05:41       296             157   \n",
       "3  2019-11-11 17:29      5.51  00:30:35  00:05:32       422             167   \n",
       "4  2019-11-13 17:00      5.37  00:30:23  00:05:39       393             156   \n",
       "\n",
       "   cadence  step  min_pace  max_heart_rate  km_min_pace  5km_pace  \n",
       "0      159    99  00:05:09             178            1       NaN  \n",
       "1      164    92  00:05:37             180            2  00:05:55  \n",
       "2      162    96  00:05:21             180            3       NaN  \n",
       "3      165    96  00:05:20             179            1  00:05:50  \n",
       "4      162    99  00:05:29             177            3  00:05:47  "
      ]
     },
     "execution_count": 12,
     "metadata": {},
     "output_type": "execute_result"
    }
   ],
   "source": [
    "df = pd.read_csv('data/dados.csv')\n",
    "df.head()"
   ]
  },
  {
   "cell_type": "markdown",
   "metadata": {
    "ExecuteTime": {
     "end_time": "2020-02-23T22:20:00.743493Z",
     "start_time": "2020-02-23T22:20:00.739637Z"
    }
   },
   "source": [
    "## Dicionário de dados"
   ]
  },
  {
   "cell_type": "markdown",
   "metadata": {
    "ExecuteTime": {
     "end_time": "2020-02-23T22:20:34.156291Z",
     "start_time": "2020-02-23T22:20:34.147352Z"
    }
   },
   "source": [
    "- **start_time**: Data/hora em que a corrida foi iniciada.\n",
    "- **distance**: Distância percorrida em KM.\n",
    "- **duration**: Duração do percurso.\n",
    "- **avg_pace**: Ritmo médio, ou seja, quantos minutos em média levou para completar 1Km.\n",
    "- **calories**: Calorias gastas.\n",
    "- **avg_heart_rate**: Frequência cardíaca média.\n",
    "- **cadence**: Cadência é a frequência média de passos dados por minuto em uma corrida.\n",
    "- **step**: Passada.\n",
    "- **min_pace**: Pace/ritmo mais rápido.\n",
    "- **max_heart_rate**: Frequência cardíaca máxima.\n",
    "- **km_min_pace**: Km que teve o menor pace/ritmo.\n",
    "- **5km_pace**: Pace referente ao 5Km."
   ]
  },
  {
   "cell_type": "markdown",
   "metadata": {},
   "source": [
    "## Informações sobre as variáveis"
   ]
  },
  {
   "cell_type": "markdown",
   "metadata": {},
   "source": [
    "### Cadência\n",
    "\n",
    "É a frequência de passos dados em uma corrida. Basta que você conte os seus passos no intervalo de 1 minuto para encontrar o valor atual da sua. Esse número tende a ser algo entre 160 e 190 passos, sendo que é comum os atletas considerarem o número de 180 ppm (passos por minuto) o ideal.\n",
    "\n",
    "Fonte: <a href=\"https://corridaperfeita.com/cadencia-na-corrida/\">Corrida perfeita - Acerte a cadência na corrida para correr melhor</a>"
   ]
  },
  {
   "cell_type": "markdown",
   "metadata": {},
   "source": [
    "### Passada\n",
    "\n",
    "É a distância em centímetros da pisada no chão de um mesmo pé."
   ]
  },
  {
   "cell_type": "markdown",
   "metadata": {},
   "source": [
    "# Perguntas\n",
    "\n",
    "Nessa fase são elencadas quais as perguntas que devem ser respondidas através dos dados coletados."
   ]
  },
  {
   "cell_type": "markdown",
   "metadata": {},
   "source": [
    "## Cadência\n",
    "\n",
    "- Quando a cadência foi maior o desempenho foi melhor, e vice-versa?\n",
    "- Em que momentos do dia a cadência foi melhor?"
   ]
  },
  {
   "cell_type": "markdown",
   "metadata": {},
   "source": [
    "## Passada\n",
    "\n",
    "- Qual relação da passada com o ritmo menor/maior?"
   ]
  },
  {
   "cell_type": "markdown",
   "metadata": {},
   "source": [
    "## Ritmo\n",
    "\n",
    "- Há diferença de desempenho nos períodos manhã, tarde e noite?\n",
    "- Em que momentos do dia o desempenho foi melhor?\n",
    "- O pace/ritmo médio está evoluindo?\n",
    "- Qual o pace ideal para corridas de 5K?\n",
    "- É possível prever em quanto tempo chegarei num pace ideal?\n",
    "- Qual o Km que tem o melhor pace?\n",
    "- Como está a evolução do pace nos 5Km?\n",
    "- Qual a tendência de ritmo/pace do início da corrida até o fim?"
   ]
  },
  {
   "cell_type": "markdown",
   "metadata": {},
   "source": [
    "## Frequência cardíaca\n",
    "\n",
    "- Qual a relação da frequência cardíaca com pace menor/maior?"
   ]
  },
  {
   "cell_type": "markdown",
   "metadata": {},
   "source": [
    "# Limpeza dos dados\n",
    "\n",
    "Nessa fase são aplicadas limpezas e tratamento de dados de acordo com as necessidades."
   ]
  },
  {
   "cell_type": "markdown",
   "metadata": {},
   "source": [
    "## Transformações"
   ]
  },
  {
   "cell_type": "markdown",
   "metadata": {},
   "source": [
    "Várias colunas estão com formatos texto para representar os tempos e devem ser formatadas para números."
   ]
  },
  {
   "cell_type": "markdown",
   "metadata": {},
   "source": [
    "**Funções para transformação**"
   ]
  },
  {
   "cell_type": "code",
   "execution_count": 62,
   "metadata": {
    "ExecuteTime": {
     "end_time": "2020-02-25T20:16:00.910326Z",
     "start_time": "2020-02-25T20:16:00.906698Z"
    },
    "code_folding": []
   },
   "outputs": [],
   "source": [
    "def transform_time_into_duration_seconds(time):\n",
    "    \"\"\"\n",
    "    Tranform time string into duration in seconds.\n",
    "    \n",
    "    Attributes:\n",
    "    ----------\n",
    "    time : str\n",
    "        time string that needs to be in format \"HH:MM:SS\"\n",
    "    \n",
    "    Returns\n",
    "    -------\n",
    "    int\n",
    "        time duration in seconds      \n",
    "    \"\"\"\n",
    "    if isinstance(time, str):\n",
    "        hours, minutes, seconds = map(int, time.split(\":\"))\n",
    "        duration = (hours * 3600) + (minutes * 60) + seconds\n",
    "        return duration\n",
    "\n",
    "\n",
    "def transform_duration_seconds_into_time(seconds):\n",
    "    \"\"\"\n",
    "    Tranform durantion seconds into time.\n",
    "    \n",
    "    Attributes:\n",
    "    ----------\n",
    "    seconds : int\n",
    "        duration in seconds\n",
    "    \n",
    "    Returns\n",
    "    -------\n",
    "    str\n",
    "        time in format \"HH:MM:SS\"     \n",
    "    \"\"\"    \n",
    "    hours, minutes, seconds = map(int, time.split(\":\"))\n",
    "    duration = (hours * 3600) + (minutes * 60) + seconds\n",
    "    return time"
   ]
  },
  {
   "cell_type": "code",
   "execution_count": 82,
   "metadata": {
    "ExecuteTime": {
     "end_time": "2020-02-25T20:29:00.526198Z",
     "start_time": "2020-02-25T20:29:00.522072Z"
    }
   },
   "outputs": [
    {
     "name": "stdout",
     "output_type": "stream",
     "text": [
      "01:61:00\n"
     ]
    }
   ],
   "source": [
    "seconds = 3660\n",
    "hours = seconds // 3600\n",
    "minutes = seconds // 60\n",
    "seconds = seconds % 60\n",
    "time = \"{}:{}:{}\".format(str(hours).zfill(2), str(minutes).zfill(2), str(seconds).zfill(2))\n",
    "print(time)"
   ]
  },
  {
   "cell_type": "code",
   "execution_count": 87,
   "metadata": {
    "ExecuteTime": {
     "end_time": "2020-02-25T20:30:10.926176Z",
     "start_time": "2020-02-25T20:30:10.922690Z"
    }
   },
   "outputs": [
    {
     "data": {
      "text/plain": [
       "'01:01:20'"
      ]
     },
     "execution_count": 87,
     "metadata": {},
     "output_type": "execute_result"
    }
   ],
   "source": [
    "time.strftime('%H:%M:%S', time.gmtime(3680))"
   ]
  },
  {
   "cell_type": "markdown",
   "metadata": {},
   "source": [
    "**Aplicando a transformação**"
   ]
  },
  {
   "cell_type": "code",
   "execution_count": 60,
   "metadata": {
    "ExecuteTime": {
     "end_time": "2020-02-25T20:15:44.379659Z",
     "start_time": "2020-02-25T20:15:44.365584Z"
    }
   },
   "outputs": [],
   "source": [
    "columns = ['duration', 'avg_pace', 'min_pace', '5km_pace']\n",
    "for column in columns:\n",
    "    df[column+'_sec'] = df[column].map(lambda value: transform_time_into_duration_seconds(value))"
   ]
  },
  {
   "cell_type": "code",
   "execution_count": 63,
   "metadata": {
    "ExecuteTime": {
     "end_time": "2020-02-25T20:18:16.672885Z",
     "start_time": "2020-02-25T20:18:16.658261Z"
    }
   },
   "outputs": [
    {
     "data": {
      "text/html": [
       "<div>\n",
       "<style scoped>\n",
       "    .dataframe tbody tr th:only-of-type {\n",
       "        vertical-align: middle;\n",
       "    }\n",
       "\n",
       "    .dataframe tbody tr th {\n",
       "        vertical-align: top;\n",
       "    }\n",
       "\n",
       "    .dataframe thead th {\n",
       "        text-align: right;\n",
       "    }\n",
       "</style>\n",
       "<table border=\"1\" class=\"dataframe\">\n",
       "  <thead>\n",
       "    <tr style=\"text-align: right;\">\n",
       "      <th></th>\n",
       "      <th>start_time</th>\n",
       "      <th>distance</th>\n",
       "      <th>duration</th>\n",
       "      <th>avg_pace</th>\n",
       "      <th>calories</th>\n",
       "      <th>avg_heart_rate</th>\n",
       "      <th>cadence</th>\n",
       "      <th>step</th>\n",
       "      <th>min_pace</th>\n",
       "      <th>max_heart_rate</th>\n",
       "      <th>km_min_pace</th>\n",
       "      <th>5km_pace</th>\n",
       "      <th>duration_sec</th>\n",
       "      <th>avg_pace_sec</th>\n",
       "      <th>min_pace_sec</th>\n",
       "      <th>5km_pace_sec</th>\n",
       "    </tr>\n",
       "  </thead>\n",
       "  <tbody>\n",
       "    <tr>\n",
       "      <th>0</th>\n",
       "      <td>2019-11-02 17:28</td>\n",
       "      <td>3.52</td>\n",
       "      <td>00:19:57</td>\n",
       "      <td>00:05:39</td>\n",
       "      <td>266</td>\n",
       "      <td>153</td>\n",
       "      <td>159</td>\n",
       "      <td>99</td>\n",
       "      <td>00:05:09</td>\n",
       "      <td>178</td>\n",
       "      <td>1</td>\n",
       "      <td>NaN</td>\n",
       "      <td>1197</td>\n",
       "      <td>339</td>\n",
       "      <td>309</td>\n",
       "      <td>NaN</td>\n",
       "    </tr>\n",
       "    <tr>\n",
       "      <th>1</th>\n",
       "      <td>2019-11-05 16:38</td>\n",
       "      <td>5.10</td>\n",
       "      <td>00:30:24</td>\n",
       "      <td>00:05:57</td>\n",
       "      <td>375</td>\n",
       "      <td>154</td>\n",
       "      <td>164</td>\n",
       "      <td>92</td>\n",
       "      <td>00:05:37</td>\n",
       "      <td>180</td>\n",
       "      <td>2</td>\n",
       "      <td>00:05:55</td>\n",
       "      <td>1824</td>\n",
       "      <td>357</td>\n",
       "      <td>337</td>\n",
       "      <td>355.0</td>\n",
       "    </tr>\n",
       "    <tr>\n",
       "      <th>2</th>\n",
       "      <td>2019-11-08 17:52</td>\n",
       "      <td>4.09</td>\n",
       "      <td>00:23:16</td>\n",
       "      <td>00:05:41</td>\n",
       "      <td>296</td>\n",
       "      <td>157</td>\n",
       "      <td>162</td>\n",
       "      <td>96</td>\n",
       "      <td>00:05:21</td>\n",
       "      <td>180</td>\n",
       "      <td>3</td>\n",
       "      <td>NaN</td>\n",
       "      <td>1396</td>\n",
       "      <td>341</td>\n",
       "      <td>321</td>\n",
       "      <td>NaN</td>\n",
       "    </tr>\n",
       "    <tr>\n",
       "      <th>3</th>\n",
       "      <td>2019-11-11 17:29</td>\n",
       "      <td>5.51</td>\n",
       "      <td>00:30:35</td>\n",
       "      <td>00:05:32</td>\n",
       "      <td>422</td>\n",
       "      <td>167</td>\n",
       "      <td>165</td>\n",
       "      <td>96</td>\n",
       "      <td>00:05:20</td>\n",
       "      <td>179</td>\n",
       "      <td>1</td>\n",
       "      <td>00:05:50</td>\n",
       "      <td>1835</td>\n",
       "      <td>332</td>\n",
       "      <td>320</td>\n",
       "      <td>350.0</td>\n",
       "    </tr>\n",
       "    <tr>\n",
       "      <th>4</th>\n",
       "      <td>2019-11-13 17:00</td>\n",
       "      <td>5.37</td>\n",
       "      <td>00:30:23</td>\n",
       "      <td>00:05:39</td>\n",
       "      <td>393</td>\n",
       "      <td>156</td>\n",
       "      <td>162</td>\n",
       "      <td>99</td>\n",
       "      <td>00:05:29</td>\n",
       "      <td>177</td>\n",
       "      <td>3</td>\n",
       "      <td>00:05:47</td>\n",
       "      <td>1823</td>\n",
       "      <td>339</td>\n",
       "      <td>329</td>\n",
       "      <td>347.0</td>\n",
       "    </tr>\n",
       "  </tbody>\n",
       "</table>\n",
       "</div>"
      ],
      "text/plain": [
       "         start_time  distance  duration  avg_pace  calories  avg_heart_rate  \\\n",
       "0  2019-11-02 17:28      3.52  00:19:57  00:05:39       266             153   \n",
       "1  2019-11-05 16:38      5.10  00:30:24  00:05:57       375             154   \n",
       "2  2019-11-08 17:52      4.09  00:23:16  00:05:41       296             157   \n",
       "3  2019-11-11 17:29      5.51  00:30:35  00:05:32       422             167   \n",
       "4  2019-11-13 17:00      5.37  00:30:23  00:05:39       393             156   \n",
       "\n",
       "   cadence  step  min_pace  max_heart_rate  km_min_pace  5km_pace  \\\n",
       "0      159    99  00:05:09             178            1       NaN   \n",
       "1      164    92  00:05:37             180            2  00:05:55   \n",
       "2      162    96  00:05:21             180            3       NaN   \n",
       "3      165    96  00:05:20             179            1  00:05:50   \n",
       "4      162    99  00:05:29             177            3  00:05:47   \n",
       "\n",
       "   duration_sec  avg_pace_sec  min_pace_sec  5km_pace_sec  \n",
       "0          1197           339           309           NaN  \n",
       "1          1824           357           337         355.0  \n",
       "2          1396           341           321           NaN  \n",
       "3          1835           332           320         350.0  \n",
       "4          1823           339           329         347.0  "
      ]
     },
     "execution_count": 63,
     "metadata": {},
     "output_type": "execute_result"
    }
   ],
   "source": [
    "df.head()"
   ]
  },
  {
   "cell_type": "code",
   "execution_count": 64,
   "metadata": {
    "ExecuteTime": {
     "end_time": "2020-02-25T20:19:49.503947Z",
     "start_time": "2020-02-25T20:19:49.498073Z"
    }
   },
   "outputs": [
    {
     "data": {
      "text/plain": [
       "340.5"
      ]
     },
     "execution_count": 64,
     "metadata": {},
     "output_type": "execute_result"
    }
   ],
   "source": [
    "df['avg_pace_sec'].mean()"
   ]
  },
  {
   "cell_type": "markdown",
   "metadata": {},
   "source": [
    "## Dados faltantes"
   ]
  },
  {
   "cell_type": "code",
   "execution_count": 41,
   "metadata": {
    "ExecuteTime": {
     "end_time": "2020-02-25T19:55:26.523396Z",
     "start_time": "2020-02-25T19:55:26.514980Z"
    }
   },
   "outputs": [
    {
     "data": {
      "text/plain": [
       "start_time         0\n",
       "distance           0\n",
       "duration           0\n",
       "avg_pace           0\n",
       "calories           0\n",
       "avg_heart_rate     0\n",
       "cadence            0\n",
       "step               0\n",
       "min_pace           0\n",
       "max_heart_rate     0\n",
       "km_min_pace        0\n",
       "5km_pace          11\n",
       "dtype: int64"
      ]
     },
     "execution_count": 41,
     "metadata": {},
     "output_type": "execute_result"
    }
   ],
   "source": [
    "df.isna().sum()"
   ]
  },
  {
   "cell_type": "markdown",
   "metadata": {},
   "source": [
    "A coluna **km_pace** tem linhas que possuem valor nulo, que são aquelas em que a distância percorrida não passou dos 5Km. \n",
    "\n",
    "Para estes casos, será atribuído a média dessa coluna, com base nas linhas que tem valor registrado."
   ]
  },
  {
   "cell_type": "code",
   "execution_count": null,
   "metadata": {},
   "outputs": [],
   "source": [
    "#..."
   ]
  },
  {
   "cell_type": "markdown",
   "metadata": {},
   "source": [
    "# Análise Exploratória\n",
    "\n",
    "Nessa fase são feitas as análise de forma a responder as perguntas elencadas anteriormente."
   ]
  },
  {
   "cell_type": "code",
   "execution_count": 17,
   "metadata": {
    "ExecuteTime": {
     "end_time": "2020-02-25T19:21:57.591297Z",
     "start_time": "2020-02-25T19:21:57.559538Z"
    }
   },
   "outputs": [
    {
     "data": {
      "text/html": [
       "<div>\n",
       "<style scoped>\n",
       "    .dataframe tbody tr th:only-of-type {\n",
       "        vertical-align: middle;\n",
       "    }\n",
       "\n",
       "    .dataframe tbody tr th {\n",
       "        vertical-align: top;\n",
       "    }\n",
       "\n",
       "    .dataframe thead th {\n",
       "        text-align: right;\n",
       "    }\n",
       "</style>\n",
       "<table border=\"1\" class=\"dataframe\">\n",
       "  <thead>\n",
       "    <tr style=\"text-align: right;\">\n",
       "      <th></th>\n",
       "      <th>distance</th>\n",
       "      <th>calories</th>\n",
       "      <th>avg_heart_rate</th>\n",
       "      <th>cadence</th>\n",
       "      <th>step</th>\n",
       "      <th>max_heart_rate</th>\n",
       "      <th>km_min_pace</th>\n",
       "    </tr>\n",
       "  </thead>\n",
       "  <tbody>\n",
       "    <tr>\n",
       "      <th>count</th>\n",
       "      <td>34.000000</td>\n",
       "      <td>34.000000</td>\n",
       "      <td>34.000000</td>\n",
       "      <td>34.000000</td>\n",
       "      <td>34.000000</td>\n",
       "      <td>34.000000</td>\n",
       "      <td>34.000000</td>\n",
       "    </tr>\n",
       "    <tr>\n",
       "      <th>mean</th>\n",
       "      <td>5.003824</td>\n",
       "      <td>363.000000</td>\n",
       "      <td>158.558824</td>\n",
       "      <td>163.352941</td>\n",
       "      <td>100.941176</td>\n",
       "      <td>175.617647</td>\n",
       "      <td>2.176471</td>\n",
       "    </tr>\n",
       "    <tr>\n",
       "      <th>std</th>\n",
       "      <td>1.047511</td>\n",
       "      <td>82.826946</td>\n",
       "      <td>6.661473</td>\n",
       "      <td>4.205929</td>\n",
       "      <td>11.591379</td>\n",
       "      <td>3.884817</td>\n",
       "      <td>1.192669</td>\n",
       "    </tr>\n",
       "    <tr>\n",
       "      <th>min</th>\n",
       "      <td>2.510000</td>\n",
       "      <td>176.000000</td>\n",
       "      <td>134.000000</td>\n",
       "      <td>145.000000</td>\n",
       "      <td>81.000000</td>\n",
       "      <td>166.000000</td>\n",
       "      <td>1.000000</td>\n",
       "    </tr>\n",
       "    <tr>\n",
       "      <th>25%</th>\n",
       "      <td>4.427500</td>\n",
       "      <td>319.500000</td>\n",
       "      <td>155.000000</td>\n",
       "      <td>162.000000</td>\n",
       "      <td>96.000000</td>\n",
       "      <td>173.000000</td>\n",
       "      <td>1.000000</td>\n",
       "    </tr>\n",
       "    <tr>\n",
       "      <th>50%</th>\n",
       "      <td>5.350000</td>\n",
       "      <td>376.500000</td>\n",
       "      <td>159.000000</td>\n",
       "      <td>164.000000</td>\n",
       "      <td>98.000000</td>\n",
       "      <td>176.500000</td>\n",
       "      <td>2.000000</td>\n",
       "    </tr>\n",
       "    <tr>\n",
       "      <th>75%</th>\n",
       "      <td>5.697500</td>\n",
       "      <td>428.750000</td>\n",
       "      <td>162.750000</td>\n",
       "      <td>166.000000</td>\n",
       "      <td>100.000000</td>\n",
       "      <td>178.000000</td>\n",
       "      <td>3.000000</td>\n",
       "    </tr>\n",
       "    <tr>\n",
       "      <th>max</th>\n",
       "      <td>6.500000</td>\n",
       "      <td>509.000000</td>\n",
       "      <td>167.000000</td>\n",
       "      <td>168.000000</td>\n",
       "      <td>141.000000</td>\n",
       "      <td>184.000000</td>\n",
       "      <td>5.000000</td>\n",
       "    </tr>\n",
       "  </tbody>\n",
       "</table>\n",
       "</div>"
      ],
      "text/plain": [
       "        distance    calories  avg_heart_rate     cadence        step  \\\n",
       "count  34.000000   34.000000       34.000000   34.000000   34.000000   \n",
       "mean    5.003824  363.000000      158.558824  163.352941  100.941176   \n",
       "std     1.047511   82.826946        6.661473    4.205929   11.591379   \n",
       "min     2.510000  176.000000      134.000000  145.000000   81.000000   \n",
       "25%     4.427500  319.500000      155.000000  162.000000   96.000000   \n",
       "50%     5.350000  376.500000      159.000000  164.000000   98.000000   \n",
       "75%     5.697500  428.750000      162.750000  166.000000  100.000000   \n",
       "max     6.500000  509.000000      167.000000  168.000000  141.000000   \n",
       "\n",
       "       max_heart_rate  km_min_pace  \n",
       "count       34.000000    34.000000  \n",
       "mean       175.617647     2.176471  \n",
       "std          3.884817     1.192669  \n",
       "min        166.000000     1.000000  \n",
       "25%        173.000000     1.000000  \n",
       "50%        176.500000     2.000000  \n",
       "75%        178.000000     3.000000  \n",
       "max        184.000000     5.000000  "
      ]
     },
     "execution_count": 17,
     "metadata": {},
     "output_type": "execute_result"
    }
   ],
   "source": [
    "df.describe()"
   ]
  },
  {
   "cell_type": "markdown",
   "metadata": {
    "ExecuteTime": {
     "end_time": "2020-02-23T23:22:53.535887Z",
     "start_time": "2020-02-23T23:22:53.529181Z"
    }
   },
   "source": [
    "CONTINUA..."
   ]
  }
 ],
 "metadata": {
  "kernelspec": {
   "display_name": "Python 3",
   "language": "python",
   "name": "python3"
  },
  "language_info": {
   "codemirror_mode": {
    "name": "ipython",
    "version": 3
   },
   "file_extension": ".py",
   "mimetype": "text/x-python",
   "name": "python",
   "nbconvert_exporter": "python",
   "pygments_lexer": "ipython3",
   "version": "3.7.3"
  },
  "toc": {
   "base_numbering": 1,
   "nav_menu": {},
   "number_sections": true,
   "sideBar": true,
   "skip_h1_title": false,
   "title_cell": "Table of Contents",
   "title_sidebar": "Contents",
   "toc_cell": false,
   "toc_position": {},
   "toc_section_display": true,
   "toc_window_display": true
  }
 },
 "nbformat": 4,
 "nbformat_minor": 2
}
